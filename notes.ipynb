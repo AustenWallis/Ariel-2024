{
 "cells": [
  {
   "cell_type": "markdown",
   "metadata": {},
   "source": [
    "## data reduction pipeline"
   ]
  },
  {
   "cell_type": "markdown",
   "metadata": {},
   "source": [
    "#### Files\n",
    "\n",
    "axis_info.parquet - time step information \n",
    "\n",
    "train/test/planet_id/ARIS-CHO_signam.parquet \n",
    "\n",
    "train/test/planet_id/FGS1_signam.parquet \n",
    "\n",
    "train/test_adc_info.csv - instrumental calibration (gain, offset) information"
   ]
  },
  {
   "cell_type": "markdown",
   "metadata": {},
   "source": [
    "#### FSG1\n",
    "\n",
    "- File 135000 rows at 0.1s time intervals, flattened to 1024 collums\n",
    "- un-flatten numpy.reshape(135000, 32, 356)\n",
    "- multiply by matched gain [train/test_adc_info.csv]\n",
    "- add offset [train/test_adc_info.csv]\n"
   ]
  },
  {
   "cell_type": "markdown",
   "metadata": {},
   "source": [
    "#### ARIS-CH0\n",
    "\n",
    "- File 11250 rows at time intervals specified in [axis_info.parquet], flattened to 1024 collums\n",
    "- un-flatten numpy.reshape(11250, 32, 356)\n",
    "- multiply by matched gain [train/test_adc_info.csv]\n",
    "- add offset [train/test_adc_info.csv]"
   ]
  },
  {
   "cell_type": "markdown",
   "metadata": {},
   "source": [
    "## Callibration"
   ]
  },
  {
   "cell_type": "markdown",
   "metadata": {},
   "source": [
    "Callibration files\n",
    "\n",
    "$image = \\frac{exposure - bias - dark}{flat - bias}$\n",
    "\n",
    "- exposure: \n",
    "- dark: [train/test]/[planet_id]/[ARIS-CHO/FSG1]_calibration/dark.parquet\n",
    "- flat: [train/test]/[planet_id]/[ARIS-CHO/FSG1]_calibration/flat.parquet\n",
    "- bias: [train/test]/[planet_id]/[ARIS-CHO/FSG1]_calibration/read.parquet\n"
   ]
  },
  {
   "cell_type": "markdown",
   "metadata": {},
   "source": [
    "- ignore all dead pixels from [train/test]/[planet_id]/[ARIS-CHO/FSG1]_calibration/dead.parquet.\n",
    "\n",
    "        fit spectrum with masked dead pixels and then set dead pixel values to continuum?"
   ]
  },
  {
   "cell_type": "markdown",
   "metadata": {},
   "source": [
    "- correct to linear response using polynomial given in [train/test]/[planet_id]/[ARIS-CHO/FSG1]_calibration/linear_corr.parquet."
   ]
  },
  {
   "cell_type": "markdown",
   "metadata": {},
   "source": []
  }
 ],
 "metadata": {
  "language_info": {
   "name": "python"
  }
 },
 "nbformat": 4,
 "nbformat_minor": 2
}
